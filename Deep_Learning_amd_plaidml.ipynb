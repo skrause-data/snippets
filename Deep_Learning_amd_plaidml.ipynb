{
 "cells": [
  {
   "cell_type": "markdown",
   "metadata": {},
   "source": [
    "## Standard (Fully Connected) Neural Network\n",
    "This code demonstrates use of fully connected networks, for the problem of handwritten digit classification. The dataset used is called MNIST. This notebook is a slightly modified version of the notebook provided at https://github.com/husnainfareed/MNIST-Handwritten-Digit-Recognition \n"
   ]
  },
  {
   "cell_type": "markdown",
   "metadata": {},
   "source": [
    "#### Loading Required packages and Data"
   ]
  },
  {
   "cell_type": "code",
   "execution_count": 33,
   "metadata": {},
   "outputs": [],
   "source": [
    "# to ignore warnings use:\n",
    "import warnings\n",
    "warnings.filterwarnings(\"ignore\")\n",
    "\n",
    "###1. Load Data and Split Data\n",
    "import numpy as np\n",
    "#from keras.datasets import mnist\n",
    "#from keras.models import Sequential \n",
    "#from tensorflow.keras.models import Sequential\n",
    "#from keras.layers.core import Dense, Activation\n",
    "#from keras.utils import np_utils\n",
    "\n",
    "import os\n",
    "os.environ[\"KERAS_BACKEND\"] = \"plaidml.keras.backend\"\n",
    "import keras \n",
    "import tensorflow as tf\n",
    "#from tensorflow.keras.models import Sequential\n",
    "\n",
    "\n",
    "from tensorflow.keras import Sequential\n",
    "\n",
    "\n",
    "(X_train, Y_train), (X_test, Y_test) = mnist.load_data()"
   ]
  },
  {
   "cell_type": "code",
   "execution_count": 34,
   "metadata": {},
   "outputs": [],
   "source": [
    "###1. Load Data and Split Data\n",
    "\n",
    "import numpy as np\n",
    "\n",
    "import plaidml.keras\n",
    "plaidml.keras.install_backend()\n",
    "import plaidml.keras.backend\n",
    "\n",
    "from keras.datasets import mnist\n",
    "from keras.utils import np_utils\n",
    "from keras.models import Sequential\n",
    "from keras.layers.core import Dense, Activation\n",
    "\n",
    "(X_train, Y_train), (X_test, Y_test) = mnist.load_data()\n",
    "    \n",
    "    "
   ]
  },
  {
   "cell_type": "markdown",
   "metadata": {},
   "source": [
    "#### Preprocessing"
   ]
  },
  {
   "cell_type": "code",
   "execution_count": 35,
   "metadata": {},
   "outputs": [
    {
     "data": {
      "image/png": "[encoded data removed]",
      "text/plain": [
       "<Figure size 1440x288 with 10 Axes>"
      ]
     },
     "metadata": {
      "needs_background": "light"
     },
     "output_type": "display_data"
    }
   ],
   "source": [
    "import matplotlib.pyplot as plt\n",
    "%matplotlib inline\n",
    "n = 10  # how many digits we will display\n",
    "plt.figure(figsize=(20, 4))\n",
    "for i in range(n):\n",
    "    # display original\n",
    "    ax = plt.subplot(1, n, i + 1)\n",
    "    plt.imshow(X_test[i].reshape(28, 28))\n",
    "    plt.gray()\n",
    "    ax.get_xaxis().set_visible(False)\n",
    "    ax.get_yaxis().set_visible(False)\n",
    "plt.show()\n",
    "plt.close()"
   ]
  },
  {
   "cell_type": "code",
   "execution_count": 36,
   "metadata": {},
   "outputs": [
    {
     "name": "stdout",
     "output_type": "stream",
     "text": [
      "Previous X_train shape: (60000, 28, 28) \n",
      "Previous Y_train shape:(60000,)\n",
      "New X_train shape: (60000, 784) \n",
      "New Y_train shape:(60000, 10)\n"
     ]
    }
   ],
   "source": [
    "print(\"Previous X_train shape: {} \\nPrevious Y_train shape:{}\".format(X_train.shape, Y_train.shape))\n",
    "X_train = X_train.reshape(60000, 784)     \n",
    "X_test = X_test.reshape(10000, 784)\n",
    "X_train = X_train.astype('float32')     \n",
    "X_test = X_test.astype('float32')     \n",
    "X_train /= 255    \n",
    "X_test /= 255\n",
    "classes = 10\n",
    "Y_train = np_utils.to_categorical(Y_train, classes)     \n",
    "Y_test = np_utils.to_categorical(Y_test, classes)\n",
    "print(\"New X_train shape: {} \\nNew Y_train shape:{}\".format(X_train.shape, Y_train.shape))"
   ]
  },
  {
   "cell_type": "markdown",
   "metadata": {},
   "source": [
    "#### Setting up parameters"
   ]
  },
  {
   "cell_type": "code",
   "execution_count": 37,
   "metadata": {},
   "outputs": [],
   "source": [
    "input_size = 784\n",
    "batch_size = 200   \n",
    "hidden1 = 50\n",
    "hidden2 = 50"
   ]
  },
  {
   "cell_type": "markdown",
   "metadata": {},
   "source": [
    "#### Building the FCN Model"
   ]
  },
  {
   "cell_type": "code",
   "execution_count": 38,
   "metadata": {
    "scrolled": true
   },
   "outputs": [
    {
     "name": "stdout",
     "output_type": "stream",
     "text": [
      "_________________________________________________________________\n",
      "Layer (type)                 Output Shape              Param #   \n",
      "=================================================================\n",
      "dense_10 (Dense)             (None, 50)                39250     \n",
      "_________________________________________________________________\n",
      "dense_11 (Dense)             (None, 50)                2550      \n",
      "_________________________________________________________________\n",
      "dense_12 (Dense)             (None, 10)                510       \n",
      "=================================================================\n",
      "Total params: 42,310\n",
      "Trainable params: 42,310\n",
      "Non-trainable params: 0\n",
      "_________________________________________________________________\n"
     ]
    }
   ],
   "source": [
    "###4.Build the model\n",
    "\n",
    "model = Sequential()     \n",
    "\n",
    "model.add(Dense(hidden1, input_dim=input_size, activation='relu'))\n",
    "# output = relu (dot (W, input) + bias)\n",
    "model.add(Dense(hidden2, activation='relu'))\n",
    "model.add(Dense(classes, activation='softmax')) \n",
    "\n",
    "# Compilation\n",
    "model.compile(loss='categorical_crossentropy', \n",
    "    metrics=['accuracy'], optimizer='sgd')\n",
    "model.summary()"
   ]
  },
  {
   "cell_type": "markdown",
   "metadata": {},
   "source": [
    "#### Training The Model"
   ]
  },
  {
   "cell_type": "code",
   "execution_count": 24,
   "metadata": {
    "scrolled": true
   },
   "outputs": [
    {
     "name": "stdout",
     "output_type": "stream",
     "text": [
      "Train on 48000 samples, validate on 12000 samples\n",
      "Epoch 1/100\n",
      " - 1s - loss: 0.1406 - acc: 0.9605 - val_loss: 0.1642 - val_acc: 0.9535\n",
      "Epoch 2/100\n",
      " - 1s - loss: 0.1398 - acc: 0.9602 - val_loss: 0.1637 - val_acc: 0.9534\n",
      "Epoch 3/100\n",
      " - 1s - loss: 0.1389 - acc: 0.9605 - val_loss: 0.1623 - val_acc: 0.9539\n",
      "Epoch 4/100\n",
      " - 1s - loss: 0.1383 - acc: 0.9611 - val_loss: 0.1620 - val_acc: 0.9539\n",
      "Epoch 5/100\n",
      " - 1s - loss: 0.1374 - acc: 0.9610 - val_loss: 0.1637 - val_acc: 0.9538\n",
      "Epoch 6/100\n",
      " - 1s - loss: 0.1367 - acc: 0.9618 - val_loss: 0.1622 - val_acc: 0.9538\n",
      "Epoch 7/100\n",
      " - 1s - loss: 0.1359 - acc: 0.9614 - val_loss: 0.1616 - val_acc: 0.9550\n",
      "Epoch 8/100\n",
      " - 1s - loss: 0.1351 - acc: 0.9620 - val_loss: 0.1613 - val_acc: 0.9541\n",
      "Epoch 9/100\n",
      " - 1s - loss: 0.1342 - acc: 0.9624 - val_loss: 0.1611 - val_acc: 0.9545\n",
      "Epoch 10/100\n",
      " - 1s - loss: 0.1335 - acc: 0.9628 - val_loss: 0.1609 - val_acc: 0.9542\n",
      "Epoch 11/100\n",
      " - 1s - loss: 0.1330 - acc: 0.9624 - val_loss: 0.1595 - val_acc: 0.9547\n",
      "Epoch 12/100\n",
      " - 1s - loss: 0.1323 - acc: 0.9625 - val_loss: 0.1599 - val_acc: 0.9550\n",
      "Epoch 13/100\n",
      " - 1s - loss: 0.1317 - acc: 0.9632 - val_loss: 0.1601 - val_acc: 0.9545\n",
      "Epoch 14/100\n",
      " - 1s - loss: 0.1309 - acc: 0.9632 - val_loss: 0.1586 - val_acc: 0.9554\n",
      "Epoch 15/100\n",
      " - 1s - loss: 0.1302 - acc: 0.9632 - val_loss: 0.1589 - val_acc: 0.9562\n",
      "Epoch 16/100\n",
      " - 1s - loss: 0.1295 - acc: 0.9634 - val_loss: 0.1591 - val_acc: 0.9559\n",
      "Epoch 17/100\n",
      " - 1s - loss: 0.1287 - acc: 0.9638 - val_loss: 0.1591 - val_acc: 0.9560\n",
      "Epoch 18/100\n",
      " - 1s - loss: 0.1283 - acc: 0.9636 - val_loss: 0.1581 - val_acc: 0.9559\n",
      "Epoch 19/100\n",
      " - 1s - loss: 0.1275 - acc: 0.9639 - val_loss: 0.1581 - val_acc: 0.9549\n",
      "Epoch 20/100\n",
      " - 1s - loss: 0.1270 - acc: 0.9643 - val_loss: 0.1582 - val_acc: 0.9560\n",
      "Epoch 21/100\n",
      " - 1s - loss: 0.1264 - acc: 0.9643 - val_loss: 0.1582 - val_acc: 0.9568\n",
      "Epoch 22/100\n",
      " - 1s - loss: 0.1257 - acc: 0.9646 - val_loss: 0.1580 - val_acc: 0.9559\n",
      "Epoch 23/100\n",
      " - 1s - loss: 0.1252 - acc: 0.9650 - val_loss: 0.1573 - val_acc: 0.9552\n",
      "Epoch 24/100\n",
      " - 1s - loss: 0.1246 - acc: 0.9647 - val_loss: 0.1574 - val_acc: 0.9565\n",
      "Epoch 25/100\n",
      " - 1s - loss: 0.1239 - acc: 0.9651 - val_loss: 0.1567 - val_acc: 0.9562\n",
      "Epoch 26/100\n",
      " - 1s - loss: 0.1233 - acc: 0.9654 - val_loss: 0.1572 - val_acc: 0.9553\n",
      "Epoch 27/100\n",
      " - 1s - loss: 0.1227 - acc: 0.9652 - val_loss: 0.1560 - val_acc: 0.9566\n",
      "Epoch 28/100\n",
      " - 1s - loss: 0.1223 - acc: 0.9653 - val_loss: 0.1559 - val_acc: 0.9572\n",
      "Epoch 29/100\n",
      " - 1s - loss: 0.1217 - acc: 0.9657 - val_loss: 0.1568 - val_acc: 0.9553\n",
      "Epoch 30/100\n",
      " - 1s - loss: 0.1213 - acc: 0.9657 - val_loss: 0.1563 - val_acc: 0.9576\n",
      "Epoch 31/100\n",
      " - 1s - loss: 0.1205 - acc: 0.9657 - val_loss: 0.1554 - val_acc: 0.9572\n",
      "Epoch 32/100\n",
      " - 1s - loss: 0.1200 - acc: 0.9664 - val_loss: 0.1556 - val_acc: 0.9567\n",
      "Epoch 33/100\n",
      " - 1s - loss: 0.1195 - acc: 0.9664 - val_loss: 0.1562 - val_acc: 0.9574\n",
      "Epoch 34/100\n",
      " - 1s - loss: 0.1189 - acc: 0.9668 - val_loss: 0.1554 - val_acc: 0.9575\n",
      "Epoch 35/100\n",
      " - 1s - loss: 0.1183 - acc: 0.9663 - val_loss: 0.1550 - val_acc: 0.9571\n",
      "Epoch 36/100\n",
      " - 1s - loss: 0.1180 - acc: 0.9668 - val_loss: 0.1544 - val_acc: 0.9574\n",
      "Epoch 37/100\n",
      " - 1s - loss: 0.1173 - acc: 0.9668 - val_loss: 0.1541 - val_acc: 0.9567\n",
      "Epoch 38/100\n",
      " - 1s - loss: 0.1169 - acc: 0.9670 - val_loss: 0.1543 - val_acc: 0.9580\n",
      "Epoch 39/100\n",
      " - 1s - loss: 0.1164 - acc: 0.9669 - val_loss: 0.1543 - val_acc: 0.9573\n",
      "Epoch 40/100\n",
      " - 1s - loss: 0.1159 - acc: 0.9671 - val_loss: 0.1530 - val_acc: 0.9577\n",
      "Epoch 41/100\n",
      " - 1s - loss: 0.1155 - acc: 0.9675 - val_loss: 0.1534 - val_acc: 0.9571\n",
      "Epoch 42/100\n",
      " - 1s - loss: 0.1150 - acc: 0.9676 - val_loss: 0.1531 - val_acc: 0.9572\n",
      "Epoch 43/100\n",
      " - 1s - loss: 0.1146 - acc: 0.9676 - val_loss: 0.1537 - val_acc: 0.9576\n",
      "Epoch 44/100\n",
      " - 1s - loss: 0.1141 - acc: 0.9679 - val_loss: 0.1541 - val_acc: 0.9566\n",
      "Epoch 45/100\n",
      " - 1s - loss: 0.1135 - acc: 0.9684 - val_loss: 0.1530 - val_acc: 0.9567\n",
      "Epoch 46/100\n",
      " - 1s - loss: 0.1131 - acc: 0.9682 - val_loss: 0.1525 - val_acc: 0.9572\n",
      "Epoch 47/100\n",
      " - 1s - loss: 0.1127 - acc: 0.9680 - val_loss: 0.1540 - val_acc: 0.9565\n",
      "Epoch 48/100\n",
      " - 1s - loss: 0.1122 - acc: 0.9681 - val_loss: 0.1525 - val_acc: 0.9577\n",
      "Epoch 49/100\n",
      " - 1s - loss: 0.1117 - acc: 0.9686 - val_loss: 0.1528 - val_acc: 0.9577\n",
      "Epoch 50/100\n",
      " - 1s - loss: 0.1111 - acc: 0.9686 - val_loss: 0.1531 - val_acc: 0.9574\n",
      "Epoch 51/100\n",
      " - 1s - loss: 0.1108 - acc: 0.9688 - val_loss: 0.1519 - val_acc: 0.9577\n",
      "Epoch 52/100\n",
      " - 1s - loss: 0.1103 - acc: 0.9693 - val_loss: 0.1523 - val_acc: 0.9583\n",
      "Epoch 53/100\n",
      " - 1s - loss: 0.1099 - acc: 0.9691 - val_loss: 0.1523 - val_acc: 0.9582\n",
      "Epoch 54/100\n",
      " - 1s - loss: 0.1094 - acc: 0.9693 - val_loss: 0.1527 - val_acc: 0.9572\n",
      "Epoch 55/100\n",
      " - 1s - loss: 0.1092 - acc: 0.9689 - val_loss: 0.1525 - val_acc: 0.9580\n",
      "Epoch 56/100\n",
      " - 1s - loss: 0.1088 - acc: 0.9694 - val_loss: 0.1512 - val_acc: 0.9584\n",
      "Epoch 57/100\n",
      " - 1s - loss: 0.1084 - acc: 0.9696 - val_loss: 0.1519 - val_acc: 0.9576\n",
      "Epoch 58/100\n",
      " - 1s - loss: 0.1077 - acc: 0.9698 - val_loss: 0.1528 - val_acc: 0.9576\n",
      "Epoch 59/100\n",
      " - 1s - loss: 0.1073 - acc: 0.9700 - val_loss: 0.1521 - val_acc: 0.9566\n",
      "Epoch 60/100\n",
      " - 1s - loss: 0.1069 - acc: 0.9701 - val_loss: 0.1519 - val_acc: 0.9582\n",
      "Epoch 61/100\n",
      " - 1s - loss: 0.1064 - acc: 0.9702 - val_loss: 0.1517 - val_acc: 0.9582\n",
      "Epoch 62/100\n",
      " - 1s - loss: 0.1063 - acc: 0.9700 - val_loss: 0.1511 - val_acc: 0.9588\n",
      "Epoch 63/100\n",
      " - 1s - loss: 0.1055 - acc: 0.9703 - val_loss: 0.1532 - val_acc: 0.9574\n",
      "Epoch 64/100\n",
      " - 1s - loss: 0.1053 - acc: 0.9706 - val_loss: 0.1512 - val_acc: 0.9590\n",
      "Epoch 65/100\n",
      " - 1s - loss: 0.1051 - acc: 0.9705 - val_loss: 0.1514 - val_acc: 0.9580\n",
      "Epoch 66/100\n",
      " - 1s - loss: 0.1046 - acc: 0.9707 - val_loss: 0.1509 - val_acc: 0.9590\n",
      "Epoch 67/100\n",
      " - 1s - loss: 0.1043 - acc: 0.9706 - val_loss: 0.1512 - val_acc: 0.9588\n",
      "Epoch 68/100\n",
      " - 1s - loss: 0.1037 - acc: 0.9710 - val_loss: 0.1512 - val_acc: 0.9573\n",
      "Epoch 69/100\n",
      " - 1s - loss: 0.1035 - acc: 0.9709 - val_loss: 0.1510 - val_acc: 0.9588\n",
      "Epoch 70/100\n",
      " - 1s - loss: 0.1030 - acc: 0.9714 - val_loss: 0.1511 - val_acc: 0.9582\n",
      "Epoch 71/100\n",
      " - 1s - loss: 0.1027 - acc: 0.9714 - val_loss: 0.1521 - val_acc: 0.9578\n",
      "Epoch 72/100\n",
      " - 1s - loss: 0.1023 - acc: 0.9719 - val_loss: 0.1516 - val_acc: 0.9591\n",
      "Epoch 73/100\n",
      " - 1s - loss: 0.1020 - acc: 0.9718 - val_loss: 0.1509 - val_acc: 0.9586\n",
      "Epoch 74/100\n",
      " - 1s - loss: 0.1018 - acc: 0.9713 - val_loss: 0.1504 - val_acc: 0.9588\n",
      "Epoch 75/100\n",
      " - 1s - loss: 0.1011 - acc: 0.9717 - val_loss: 0.1504 - val_acc: 0.9587\n",
      "Epoch 76/100\n",
      " - 1s - loss: 0.1008 - acc: 0.9720 - val_loss: 0.1507 - val_acc: 0.9591\n",
      "Epoch 77/100\n",
      " - 1s - loss: 0.1005 - acc: 0.9721 - val_loss: 0.1510 - val_acc: 0.9582\n",
      "Epoch 78/100\n",
      " - 1s - loss: 0.1003 - acc: 0.9720 - val_loss: 0.1510 - val_acc: 0.9574\n",
      "Epoch 79/100\n",
      " - 1s - loss: 0.0999 - acc: 0.9722 - val_loss: 0.1502 - val_acc: 0.9587\n",
      "Epoch 80/100\n",
      " - 1s - loss: 0.0995 - acc: 0.9722 - val_loss: 0.1503 - val_acc: 0.9584\n",
      "Epoch 81/100\n",
      " - 1s - loss: 0.0993 - acc: 0.9720 - val_loss: 0.1504 - val_acc: 0.9588\n",
      "Epoch 82/100\n",
      " - 1s - loss: 0.0990 - acc: 0.9724 - val_loss: 0.1507 - val_acc: 0.9590\n",
      "Epoch 83/100\n",
      " - 1s - loss: 0.0984 - acc: 0.9723 - val_loss: 0.1509 - val_acc: 0.9575\n",
      "Epoch 84/100\n",
      " - 1s - loss: 0.0984 - acc: 0.9726 - val_loss: 0.1508 - val_acc: 0.9577\n",
      "Epoch 85/100\n",
      " - 1s - loss: 0.0979 - acc: 0.9730 - val_loss: 0.1499 - val_acc: 0.9579\n",
      "Epoch 86/100\n",
      " - 1s - loss: 0.0976 - acc: 0.9728 - val_loss: 0.1504 - val_acc: 0.9587\n",
      "Epoch 87/100\n",
      " - 1s - loss: 0.0971 - acc: 0.9729 - val_loss: 0.1502 - val_acc: 0.9578\n",
      "Epoch 88/100\n",
      " - 1s - loss: 0.0971 - acc: 0.9730 - val_loss: 0.1510 - val_acc: 0.9592\n",
      "Epoch 89/100\n",
      " - 1s - loss: 0.0965 - acc: 0.9729 - val_loss: 0.1502 - val_acc: 0.9577\n",
      "Epoch 90/100\n",
      " - 1s - loss: 0.0962 - acc: 0.9730 - val_loss: 0.1502 - val_acc: 0.9586\n",
      "Epoch 91/100\n",
      " - 1s - loss: 0.0961 - acc: 0.9735 - val_loss: 0.1500 - val_acc: 0.9582\n",
      "Epoch 92/100\n",
      " - 1s - loss: 0.0958 - acc: 0.9734 - val_loss: 0.1504 - val_acc: 0.9578\n",
      "Epoch 93/100\n",
      " - 1s - loss: 0.0954 - acc: 0.9737 - val_loss: 0.1512 - val_acc: 0.9581\n",
      "Epoch 94/100\n",
      " - 1s - loss: 0.0953 - acc: 0.9733 - val_loss: 0.1499 - val_acc: 0.9587\n",
      "Epoch 95/100\n",
      " - 1s - loss: 0.0947 - acc: 0.9738 - val_loss: 0.1502 - val_acc: 0.9583\n",
      "Epoch 96/100\n",
      " - 1s - loss: 0.0945 - acc: 0.9735 - val_loss: 0.1496 - val_acc: 0.9582\n"
     ]
    },
    {
     "name": "stdout",
     "output_type": "stream",
     "text": [
      "Epoch 97/100\n",
      " - 1s - loss: 0.0942 - acc: 0.9738 - val_loss: 0.1511 - val_acc: 0.9579\n",
      "Epoch 98/100\n",
      " - 1s - loss: 0.0940 - acc: 0.9740 - val_loss: 0.1499 - val_acc: 0.9572\n",
      "Epoch 99/100\n",
      " - 1s - loss: 0.0936 - acc: 0.9740 - val_loss: 0.1503 - val_acc: 0.9581\n",
      "Epoch 100/100\n",
      " - 1s - loss: 0.0934 - acc: 0.9739 - val_loss: 0.1501 - val_acc: 0.9573\n"
     ]
    }
   ],
   "source": [
    "# Fitting on Data\n",
    "history = model.fit(X_train, Y_train, batch_size=batch_size, epochs=100, verbose=2,validation_split=0.2)\n",
    "###5.Test "
   ]
  },
  {
   "cell_type": "code",
   "execution_count": 39,
   "metadata": {},
   "outputs": [
    {
     "data": {
      "text/plain": [
       "[<matplotlib.lines.Line2D at 0x24f6ad899c8>]"
      ]
     },
     "execution_count": 39,
     "metadata": {},
     "output_type": "execute_result"
    },
    {
     "data": {
      "image/png": "[encoded data removed]",
      "text/plain": [
       "<Figure size 432x288 with 1 Axes>"
      ]
     },
     "metadata": {
      "needs_background": "light"
     },
     "output_type": "display_data"
    }
   ],
   "source": [
    "# plot learning curves\n",
    "plt.plot(history.history[\"val_acc\"])\n",
    "plt.plot(history.history[\"acc\"],'r-')"
   ]
  },
  {
   "cell_type": "markdown",
   "metadata": {
    "collapsed": true
   },
   "source": [
    "#### Testing The Model"
   ]
  },
  {
   "cell_type": "code",
   "execution_count": 40,
   "metadata": {},
   "outputs": [
    {
     "name": "stdout",
     "output_type": "stream",
     "text": [
      "10000/10000 [==============================] - 27s 3ms/step\n",
      "\n",
      "Test accuracy: 0.1105\n",
      "[8 8 1 8 1 7 1 8 8 4]\n"
     ]
    },
    {
     "data": {
      "image/png": "[encoded data removed]",
      "text/plain": [
       "<Figure size 1440x288 with 10 Axes>"
      ]
     },
     "metadata": {
      "needs_background": "light"
     },
     "output_type": "display_data"
    }
   ],
   "source": [
    "score = model.evaluate(X_test, Y_test, verbose=1)\n",
    "print('\\n''Test accuracy:', score[1])\n",
    "mask = range(10,20)\n",
    "X_valid = X_test[mask]\n",
    "y_pred = model.predict_classes(X_valid)\n",
    "print(y_pred)\n",
    "plt.figure(figsize=(20, 4))\n",
    "for i in range(n):\n",
    "    # display original\n",
    "    ax = plt.subplot(2, n, i + 1)\n",
    "    plt.imshow(X_valid[i].reshape(28, 28))\n",
    "    plt.gray()\n",
    "    ax.get_xaxis().set_visible(False)\n",
    "    ax.get_yaxis().set_visible(False)\n",
    "plt.show()\n",
    "plt.close()"
   ]
  },
  {
   "cell_type": "markdown",
   "metadata": {},
   "source": [
    "## MNIST using LeNet-5 (a wellknown and simple Convolutional Neural Network)"
   ]
  },
  {
   "cell_type": "code",
   "execution_count": 41,
   "metadata": {},
   "outputs": [
    {
     "name": "stdout",
     "output_type": "stream",
     "text": [
      "Train on 48000 samples, validate on 12000 samples\n",
      "Epoch 1/10\n",
      " - 72s - loss: 2.2781 - acc: 0.2245 - val_loss: 2.2403 - val_acc: 0.3191\n",
      "Epoch 2/10\n",
      " - 3s - loss: 1.8743 - acc: 0.5232 - val_loss: 0.9336 - val_acc: 0.7751\n",
      "Epoch 3/10\n",
      " - 3s - loss: 0.5733 - acc: 0.8464 - val_loss: 0.3957 - val_acc: 0.8867\n",
      "Epoch 4/10\n",
      " - 3s - loss: 0.3877 - acc: 0.8872 - val_loss: 0.3213 - val_acc: 0.9081\n",
      "Epoch 5/10\n",
      " - 3s - loss: 0.3360 - acc: 0.9005 - val_loss: 0.2942 - val_acc: 0.9156\n",
      "Epoch 6/10\n",
      " - 3s - loss: 0.3036 - acc: 0.9095 - val_loss: 0.2819 - val_acc: 0.9134\n",
      "Epoch 7/10\n",
      " - 3s - loss: 0.2784 - acc: 0.9176 - val_loss: 0.2464 - val_acc: 0.9304\n",
      "Epoch 8/10\n",
      " - 3s - loss: 0.2584 - acc: 0.9229 - val_loss: 0.2364 - val_acc: 0.9297\n",
      "Epoch 9/10\n",
      " - 3s - loss: 0.2415 - acc: 0.9275 - val_loss: 0.2426 - val_acc: 0.9247\n",
      "Epoch 10/10\n",
      " - 3s - loss: 0.2252 - acc: 0.9325 - val_loss: 0.2026 - val_acc: 0.9431\n"
     ]
    },
    {
     "data": {
      "text/plain": [
       "[<matplotlib.lines.Line2D at 0x24f6bd77308>]"
      ]
     },
     "execution_count": 41,
     "metadata": {},
     "output_type": "execute_result"
    },
    {
     "data": {
      "image/png": "[encoded data removed]",
      "text/plain": [
       "<Figure size 432x288 with 1 Axes>"
      ]
     },
     "metadata": {
      "needs_background": "light"
     },
     "output_type": "display_data"
    }
   ],
   "source": [
    "from keras.layers import Conv2D, MaxPool2D, AveragePooling2D, Flatten, Dropout\n",
    "# plot learning curves\n",
    "model = Sequential()\n",
    "model.add(Conv2D(filters=6, kernel_size=(3, 3), activation='relu', input_shape=(28,28,1)))\n",
    "model.add(AveragePooling2D())\n",
    "\n",
    "model.add(Conv2D(filters=16, kernel_size=(3, 3), activation='relu'))\n",
    "model.add(AveragePooling2D())\n",
    "\n",
    "model.add(Flatten())\n",
    "model.add(Dense(units=120, activation='relu'))\n",
    "\n",
    "model.add(Dense(units=84, activation='relu'))\n",
    "\n",
    "model.add(Dense(units=10, activation = 'softmax'))\n",
    "\n",
    "# Compilation\n",
    "model.compile(loss='categorical_crossentropy', \n",
    "    metrics=['accuracy'], optimizer='sgd')\n",
    "\n",
    "history = model.fit(X_train.reshape(60000,28,28,1), Y_train, batch_size=batch_size, epochs=10, verbose=2,validation_split=0.2)\n",
    "\n",
    "# plot learning curves\n",
    "plt.plot(history.history[\"val_acc\"])\n",
    "plt.plot(history.history[\"acc\"],'r-')"
   ]
  },
  {
   "cell_type": "code",
   "execution_count": 30,
   "metadata": {},
   "outputs": [
    {
     "name": "stdout",
     "output_type": "stream",
     "text": [
      "60074\n",
      "_________________________________________________________________\n",
      "Layer (type)                 Output Shape              Param #   \n",
      "=================================================================\n",
      "conv2d_3 (Conv2D)            (None, 26, 26, 6)         60        \n",
      "_________________________________________________________________\n",
      "average_pooling2d_3 (Average (None, 13, 13, 6)         0         \n",
      "_________________________________________________________________\n",
      "conv2d_4 (Conv2D)            (None, 11, 11, 16)        880       \n",
      "_________________________________________________________________\n",
      "average_pooling2d_4 (Average (None, 5, 5, 16)          0         \n",
      "_________________________________________________________________\n",
      "flatten_2 (Flatten)          (None, 400)               0         \n",
      "_________________________________________________________________\n",
      "dense_7 (Dense)              (None, 120)               48120     \n",
      "_________________________________________________________________\n",
      "dense_8 (Dense)              (None, 84)                10164     \n",
      "_________________________________________________________________\n",
      "dense_9 (Dense)              (None, 10)                850       \n",
      "=================================================================\n",
      "Total params: 60,074\n",
      "Trainable params: 60,074\n",
      "Non-trainable params: 0\n",
      "_________________________________________________________________\n"
     ]
    }
   ],
   "source": [
    "print(model.count_params())\n",
    "model.summary()"
   ]
  },
  {
   "cell_type": "code",
   "execution_count": 31,
   "metadata": {},
   "outputs": [
    {
     "name": "stdout",
     "output_type": "stream",
     "text": [
      "Downloading data from https://github.com/fchollet/deep-learning-models/releases/download/v0.1/vgg16_weights_tf_dim_ordering_tf_kernels.h5\n",
      "553467904/553467096 [==============================] - 53s 0us/step\n"
     ]
    }
   ],
   "source": [
    "# loading pretrainined models\n",
    "from keras.applications.vgg16 import VGG16\n",
    "clf = VGG16()\n",
    "# see this link for further reading: https://machinelearningmastery.com/how-to-use-transfer-learning-when-developing-convolutional-neural-network-models/"
   ]
  },
  {
   "cell_type": "code",
   "execution_count": 32,
   "metadata": {},
   "outputs": [
    {
     "name": "stdout",
     "output_type": "stream",
     "text": [
      "_________________________________________________________________\n",
      "Layer (type)                 Output Shape              Param #   \n",
      "=================================================================\n",
      "input_1 (InputLayer)         (None, 224, 224, 3)       0         \n",
      "_________________________________________________________________\n",
      "block1_conv1 (Conv2D)        (None, 224, 224, 64)      1792      \n",
      "_________________________________________________________________\n",
      "block1_conv2 (Conv2D)        (None, 224, 224, 64)      36928     \n",
      "_________________________________________________________________\n",
      "block1_pool (MaxPooling2D)   (None, 112, 112, 64)      0         \n",
      "_________________________________________________________________\n",
      "block2_conv1 (Conv2D)        (None, 112, 112, 128)     73856     \n",
      "_________________________________________________________________\n",
      "block2_conv2 (Conv2D)        (None, 112, 112, 128)     147584    \n",
      "_________________________________________________________________\n",
      "block2_pool (MaxPooling2D)   (None, 56, 56, 128)       0         \n",
      "_________________________________________________________________\n",
      "block3_conv1 (Conv2D)        (None, 56, 56, 256)       295168    \n",
      "_________________________________________________________________\n",
      "block3_conv2 (Conv2D)        (None, 56, 56, 256)       590080    \n",
      "_________________________________________________________________\n",
      "block3_conv3 (Conv2D)        (None, 56, 56, 256)       590080    \n",
      "_________________________________________________________________\n",
      "block3_pool (MaxPooling2D)   (None, 28, 28, 256)       0         \n",
      "_________________________________________________________________\n",
      "block4_conv1 (Conv2D)        (None, 28, 28, 512)       1180160   \n",
      "_________________________________________________________________\n",
      "block4_conv2 (Conv2D)        (None, 28, 28, 512)       2359808   \n",
      "_________________________________________________________________\n",
      "block4_conv3 (Conv2D)        (None, 28, 28, 512)       2359808   \n",
      "_________________________________________________________________\n",
      "block4_pool (MaxPooling2D)   (None, 14, 14, 512)       0         \n",
      "_________________________________________________________________\n",
      "block5_conv1 (Conv2D)        (None, 14, 14, 512)       2359808   \n",
      "_________________________________________________________________\n",
      "block5_conv2 (Conv2D)        (None, 14, 14, 512)       2359808   \n",
      "_________________________________________________________________\n",
      "block5_conv3 (Conv2D)        (None, 14, 14, 512)       2359808   \n",
      "_________________________________________________________________\n",
      "block5_pool (MaxPooling2D)   (None, 7, 7, 512)         0         \n",
      "_________________________________________________________________\n",
      "flatten (Flatten)            (None, 25088)             0         \n",
      "_________________________________________________________________\n",
      "fc1 (Dense)                  (None, 4096)              102764544 \n",
      "_________________________________________________________________\n",
      "fc2 (Dense)                  (None, 4096)              16781312  \n",
      "_________________________________________________________________\n",
      "predictions (Dense)          (None, 1000)              4097000   \n",
      "=================================================================\n",
      "Total params: 138,357,544\n",
      "Trainable params: 138,357,544\n",
      "Non-trainable params: 0\n",
      "_________________________________________________________________\n"
     ]
    }
   ],
   "source": [
    "clf.summary()"
   ]
  },
  {
   "cell_type": "code",
   "execution_count": null,
   "metadata": {},
   "outputs": [],
   "source": []
  }
 ],
 "metadata": {
  "kernelspec": {
   "display_name": "Python 3",
   "language": "python",
   "name": "python3"
  },
  "language_info": {
   "codemirror_mode": {
    "name": "ipython",
    "version": 3
   },
   "file_extension": ".py",
   "mimetype": "text/x-python",
   "name": "python",
   "nbconvert_exporter": "python",
   "pygments_lexer": "ipython3",
   "version": "3.7.6"
  }
 },
 "nbformat": 4,
 "nbformat_minor": 2
}
