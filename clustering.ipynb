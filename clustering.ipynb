{
 "cells": [
  {
   "cell_type": "markdown",
   "metadata": {},
   "source": [
    "# Beispiele für Clustering"
   ]
  },
  {
   "cell_type": "code",
   "execution_count": null,
   "metadata": {},
   "outputs": [],
   "source": [
    "import numpy as np\n",
    "\n",
    "from sklearn.cluster import KMeans\n",
    "from sklearn.cluster import AgglomerativeClustering\n",
    "from sklearn.cluster import DBSCAN\n",
    "from sklearn.cluster import OPTICS\n",
    "from sklearn.cluster import MeanShift"
   ]
  },
  {
   "cell_type": "code",
   "execution_count": null,
   "metadata": {},
   "outputs": [],
   "source": [
    "from sklearn.datasets import make_blobs\n",
    "import matplotlib.pyplot as plt\n",
    "\n",
    "random_state = 170\n",
    "n_samples = 1000\n",
    "X, y = make_blobs(n_samples=n_samples, centers=3, center_box=(-7.0, 7.0),\n",
    "                  random_state=random_state)\n",
    "\n",
    "\n",
    "def plots(X, y, Title):\n",
    "    fig, axs = plt.subplots(2, 2)\n",
    "    axs = axs.ravel()\n",
    "\n",
    "    for i in range(4):\n",
    "        axs[i].scatter(X[:, 0], X[:, 1], c=y[i])\n",
    "        axs[i].set_title(Title + ' ' + str(i+1))\n",
    "    fig.tight_layout()"
   ]
  },
  {
   "cell_type": "code",
   "execution_count": null,
   "metadata": {},
   "outputs": [],
   "source": [
    "titel = 'KMeans n_cluster ='\n",
    "liste = [y,\n",
    "         KMeans(n_clusters=2, random_state=random_state).fit_predict(X),\n",
    "         KMeans(n_clusters=3, random_state=random_state).fit_predict(X),\n",
    "         KMeans(n_clusters=4, random_state=random_state).fit_predict(X)]\n",
    "\n",
    "kmean = plots(X, liste, titel)"
   ]
  },
  {
   "cell_type": "code",
   "execution_count": null,
   "metadata": {},
   "outputs": [],
   "source": [
    "titel = 'DBSCAN min_samples= '\n",
    "liste = [y,\n",
    "         DBSCAN(min_samples=2).fit(X).labels_,\n",
    "         DBSCAN(min_samples=3).fit(X).labels_,\n",
    "         DBSCAN(min_samples=4).fit(X).labels_]\n",
    "\n",
    "dbsca = plots(X, liste, titel)"
   ]
  },
  {
   "cell_type": "code",
   "execution_count": null,
   "metadata": {},
   "outputs": [],
   "source": [
    "titel = 'SpectClust n_cluster ='\n",
    "liste = [y,\n",
    "         SpectralClustering(n_clusters=2).fit(X).labels_,\n",
    "         SpectralClustering(n_clusters=3).fit(X).labels_,\n",
    "         SpectralClustering(n_clusters=4).fit(X).labels_]\n",
    "\n",
    "spect = plots(X, liste, titel)"
   ]
  },
  {
   "cell_type": "code",
   "execution_count": null,
   "metadata": {},
   "outputs": [],
   "source": [
    "titel = 'OPTICS min_samples ='\n",
    "liste = [y,\n",
    "         OPTICS(min_samples=21, xi=.05, min_cluster_size=.05).fit(X).labels_,\n",
    "         OPTICS(min_samples=41, xi=.05, min_cluster_size=.05).fit(X).labels_,\n",
    "         OPTICS(min_samples=61, xi=.05, min_cluster_size=.05).fit(X).labels_]\n",
    "\n",
    "spect = plots(X, liste, titel)"
   ]
  },
  {
   "cell_type": "code",
   "execution_count": null,
   "metadata": {},
   "outputs": [],
   "source": [
    "titel = 'MeanShift bandwith'\n",
    "liste = [y,\n",
    "         MeanShift(bandwidth=0.1).fit(X).labels_,\n",
    "         MeanShift(bandwidth=1).fit(X).labels_,\n",
    "         MeanShift(bandwidth=10).fit(X).labels_]\n",
    "\n",
    "spect = plots(X, liste, titel)"
   ]
  },
  {
   "cell_type": "code",
   "execution_count": null,
   "metadata": {},
   "outputs": [],
   "source": [
    "titel = 'AgglClust n_clusters ='\n",
    "liste = [y,\n",
    "         AgglomerativeClustering(n_clusters=2).fit(X).labels_,\n",
    "         AgglomerativeClustering(n_clusters=3).fit(X).labels_,\n",
    "         AgglomerativeClustering(n_clusters=4).fit(X).labels_]\n",
    "\n",
    "spect = plots(X, liste, titel)"
   ]
  },
  {
   "cell_type": "code",
   "execution_count": null,
   "metadata": {},
   "outputs": [],
   "source": [
    "X, y = make_circles(n_samples=1500, factor=.3, noise=.05)\n",
    "\n",
    "clustering = SpectralClustering(n_clusters=2, assign_labels=\"discretize\",\n",
    "                                random_state=0).fit(X)"
   ]
  },
  {
   "cell_type": "code",
   "execution_count": null,
   "metadata": {},
   "outputs": [],
   "source": [
    "random_state = 170\n",
    "n_samples = 1000\n",
    "\n",
    "\n",
    "fig, (ax1, ax2, ax3, ax4, ax5) = plt.subplots(5, 1, figsize=(3, 8))\n",
    "\n",
    "ax1.scatter(X[:, 0], X[:, 1], c=y, s=20)\n",
    "ax1.set(title='Original')\n",
    "ax1.grid()\n",
    "\n",
    "ax2.scatter(X[:, 0], X[:, 1],\n",
    "            c=KMeans(n_clusters=2, random_state=random_state).fit_predict(X))\n",
    "ax2.set(title='KMeans')\n",
    "ax2.grid()\n",
    "\n",
    "clust = SpectralClustering(n_clusters=2).fit(X)\n",
    "ax3.scatter(X[:, 0], X[:, 1], c=clust.labels_)\n",
    "ax3.set(title='SpectClust')\n",
    "ax3.grid()\n",
    "\n",
    "clust = OPTICS(min_samples=50, xi=.05, min_cluster_size=.05)\n",
    "ax4.scatter(X[:, 0], X[:, 1], c=clust.fit_predict(X))\n",
    "ax4.set(title='Optics')\n",
    "ax4.grid()\n",
    "\n",
    "# clust = OPTICS(min_samples=50, xi=.05, min_cluster_size=.05)\n",
    "ax5.scatter(X[:, 0], X[:, 1], c=MeanShift(bandwidth=0.1).fit(X).labels_)\n",
    "ax5.set(title='MeanShift')\n",
    "ax5.grid()\n",
    "\n",
    "\n",
    "fig.tight_layout()\n",
    "\n",
    "\n",
    "Sum_of_squared_distances = []\n",
    "K = range(1, 15)\n",
    "for k in K:\n",
    "    km = KMeans(n_clusters=k)\n",
    "    km = km.fit(X)\n",
    "    Sum_of_squared_distances.append(km.inertia_)\n",
    "\n",
    "fig, ax = plt.subplots()\n",
    "ax.plot(K, Sum_of_squared_distances, 'bx-')\n",
    "ax.set_title('Optimales k (elbow method)')\n",
    "ax.grid()\n",
    "fig.show()"
   ]
  },
  {
   "cell_type": "code",
   "execution_count": null,
   "metadata": {},
   "outputs": [],
   "source": [
    "from yellowbrick.cluster import KElbowVisualizer\n",
    "\n",
    "model = KMeans()\n",
    "visualizer = KElbowVisualizer(\n",
    "    model, k=(2,20), metric='calinski_harabasz', timings=True\n",
    ")\n",
    "\n",
    "visualizer.fit(X)        # Fit the data to the visualizer\n",
    "visualizer.show()        # Finalize and render the figure"
   ]
  },
  {
   "cell_type": "code",
   "execution_count": null,
   "metadata": {},
   "outputs": [],
   "source": []
  }
 ],
 "metadata": {
  "kernelspec": {
   "display_name": "Python 3",
   "language": "python",
   "name": "python3"
  },
  "language_info": {
   "codemirror_mode": {
    "name": "ipython",
    "version": 3
   },
   "file_extension": ".py",
   "mimetype": "text/x-python",
   "name": "python",
   "nbconvert_exporter": "python",
   "pygments_lexer": "ipython3",
   "version": "3.7.6"
  }
 },
 "nbformat": 4,
 "nbformat_minor": 4
}
